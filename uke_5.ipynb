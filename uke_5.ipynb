{
 "cells": [
  {
   "cell_type": "code",
   "execution_count": 1,
   "id": "b4e42b06-de62-40e5-921b-e998b278e051",
   "metadata": {},
   "outputs": [],
   "source": [
    "z = -2 + 3j"
   ]
  },
  {
   "cell_type": "code",
   "execution_count": 4,
   "id": "1e60635f-24aa-4401-a583-7c20d4fce605",
   "metadata": {},
   "outputs": [
    {
     "name": "stdout",
     "output_type": "stream",
     "text": [
      "(-2+3j)\n"
     ]
    }
   ],
   "source": [
    "print(z)"
   ]
  },
  {
   "cell_type": "code",
   "execution_count": 6,
   "id": "fb7abadd-e3b8-40cc-b90d-8ca0e09034af",
   "metadata": {},
   "outputs": [
    {
     "name": "stdout",
     "output_type": "stream",
     "text": [
      "5\n"
     ]
    }
   ],
   "source": [
    "print(abs(5))"
   ]
  },
  {
   "cell_type": "code",
   "execution_count": 7,
   "id": "3b7d4508-ee5c-4f01-a925-7a6ab269b7c7",
   "metadata": {},
   "outputs": [
    {
     "name": "stdout",
     "output_type": "stream",
     "text": [
      "5\n"
     ]
    }
   ],
   "source": [
    "print(abs(-5))"
   ]
  },
  {
   "cell_type": "code",
   "execution_count": 13,
   "id": "d67f4e9c-6caf-410c-bc6a-1156b0fc8b35",
   "metadata": {},
   "outputs": [
    {
     "name": "stdout",
     "output_type": "stream",
     "text": [
      "3.6055512754639896\n"
     ]
    }
   ],
   "source": [
    "import numpy as np\n",
    "r = np.abs(z)\n",
    "print(r)"
   ]
  },
  {
   "cell_type": "code",
   "execution_count": 23,
   "id": "88391f48-1bef-4f1f-a9c2-9281cb3ff143",
   "metadata": {},
   "outputs": [
    {
     "name": "stdout",
     "output_type": "stream",
     "text": [
      "-2.0\n"
     ]
    }
   ],
   "source": [
    "print(np.real(z))"
   ]
  },
  {
   "cell_type": "code",
   "execution_count": 24,
   "id": "708a49c4-d81e-42b1-a124-a865228272d8",
   "metadata": {},
   "outputs": [
    {
     "name": "stdout",
     "output_type": "stream",
     "text": [
      "3.0\n"
     ]
    }
   ],
   "source": [
    "print(np.imag(z))"
   ]
  },
  {
   "cell_type": "code",
   "execution_count": 14,
   "id": "3a86de1b-9b9f-498a-92b0-58bae9ee7da1",
   "metadata": {},
   "outputs": [
    {
     "name": "stdout",
     "output_type": "stream",
     "text": [
      "2.1587989303424644\n"
     ]
    }
   ],
   "source": [
    "theta = np.angle(z)\n",
    "print(theta)"
   ]
  },
  {
   "cell_type": "code",
   "execution_count": 16,
   "id": "3b789dd6-fb69-42ed-9730-bbfb6dd45de7",
   "metadata": {},
   "outputs": [
    {
     "name": "stdout",
     "output_type": "stream",
     "text": [
      "(-2.0000000000000004+3j)\n"
     ]
    }
   ],
   "source": [
    "print(r*np.exp(1j*theta))"
   ]
  },
  {
   "cell_type": "markdown",
   "id": "eeb04ea0-5234-4995-88ab-2f157c84bc18",
   "metadata": {},
   "source": [
    "$$\\sum_{i=1}^{100} i = 1+2+3+...+98+99+100 = 101\\cdot50 = 5050$$\n",
    "\n",
    "$$\\sum_{i=1}^{n} i = (n+1)\\frac{n}{2}$$"
   ]
  },
  {
   "cell_type": "code",
   "execution_count": 22,
   "id": "1c8a78d7-a0db-4b0f-ac61-2efd38d96052",
   "metadata": {},
   "outputs": [
    {
     "name": "stdout",
     "output_type": "stream",
     "text": [
      "5050\n"
     ]
    }
   ],
   "source": [
    "s = 0\n",
    "\n",
    "for i in range(1, 101):\n",
    "    s += i\n",
    "\n",
    "print(s)"
   ]
  },
  {
   "cell_type": "code",
   "execution_count": null,
   "id": "6262f6df-9828-4fff-853e-12b3b2415547",
   "metadata": {},
   "outputs": [],
   "source": []
  }
 ],
 "metadata": {
  "kernelspec": {
   "display_name": "Python 3 (ipykernel)",
   "language": "python",
   "name": "python3"
  },
  "language_info": {
   "codemirror_mode": {
    "name": "ipython",
    "version": 3
   },
   "file_extension": ".py",
   "mimetype": "text/x-python",
   "name": "python",
   "nbconvert_exporter": "python",
   "pygments_lexer": "ipython3",
   "version": "3.12.4"
  }
 },
 "nbformat": 4,
 "nbformat_minor": 5
}
