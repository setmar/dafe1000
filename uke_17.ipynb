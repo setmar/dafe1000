{
 "cells": [
  {
   "cell_type": "code",
   "execution_count": 8,
   "id": "b257ed2a-1406-4019-9082-d731004ef9fd",
   "metadata": {},
   "outputs": [
    {
     "name": "stdout",
     "output_type": "stream",
     "text": [
      "2506.990937564652\n"
     ]
    }
   ],
   "source": [
    "import numpy as np\n",
    "\n",
    "# Dette skriptet reknar ut lengda av\n",
    "# tapen på ein taperull.\n",
    "# Input er indre og ytre radius, a og b, \n",
    "# og kor tjukk tapen er, dr.\n",
    "\n",
    "# Indre og ytre radius\n",
    "a = 3\n",
    "b = 5\n",
    "\n",
    "# Kor tjukk tapen er\n",
    "dr = 0.02\n",
    "\n",
    "# Initerar radius r of lengda L\n",
    "r = a\n",
    "l = 0\n",
    "\n",
    "# Legg til omkretsen for kvar runde \n",
    "# Dette gjer vi så lenge r < b (strengt tatt r < b - dr)\n",
    "while r < b-dr:\n",
    "    l = l + 2*np.pi*r           # Oppdaterar L\n",
    "    r = r + dr               # Oppdaterar r\n",
    "\n",
    "# Skriv svaret til skjerm\n",
    "print(l)"
   ]
  },
  {
   "cell_type": "code",
   "execution_count": 11,
   "id": "097fbdcc-14b5-4f6c-9732-2abf26d85021",
   "metadata": {},
   "outputs": [
    {
     "name": "stdin",
     "output_type": "stream",
     "text": [
      "Kor mange delintervall skal vi bruke?  100\n"
     ]
    },
    {
     "name": "stdout",
     "output_type": "stream",
     "text": [
      "189.21519244364626\n",
      "153.5228029285303\n"
     ]
    }
   ],
   "source": [
    "# Skript som reknar volum og overflate-areal\n",
    "# av ei flaske gitt ved profil-funksjonen\n",
    "# p(x) frå x=a til x=b.\n",
    "# Input er p(x), p'(x), a og b.\n",
    "# I tillegg blir oppdelinga n gitt frå kommando-\n",
    "# vindauga ved input-funksjonen.\n",
    "# Sjølve integral-estimatet blir gjort med\n",
    "# Trapesmetoden.\n",
    "\n",
    "# Grenser\n",
    "a = -5\n",
    "b = 5\n",
    "\n",
    "# Funksjon og derivert\n",
    "def p(x):\n",
    "    return 0.7*np.atan(4-3*x)+2\n",
    "\n",
    "def pd(x):\n",
    "    return -2.1/((4-3*x)**2+1)\n",
    "\n",
    "# Les inn talet på delintervall frå skjerm\n",
    "n = int(input('Kor mange delintervall skal vi bruke? '))\n",
    "\n",
    "# Steglengde\n",
    "dx = (b-a)/n\n",
    "\n",
    "# Initerar og tar med endepunkta\n",
    "volum = (p(a)**2 + p(b)**2)/2\n",
    "areal = p(a)*np.sqrt(1 + pd(a)**2)/2\n",
    "areal = areal + p(b)*np.sqrt(1 + pd(b)**2)/2\n",
    "\n",
    "# Summerar over alle indre punkt\n",
    "for n in range(1, n):\n",
    "  x = a + n*dx\n",
    "  volum = volum + p(x)**2\n",
    "  areal = areal + p(x)*np.sqrt(1 + pd(x)**2)\n",
    "\n",
    "# Opdaterar med dei rette faktorane og skriv til skjerm\n",
    "volum = np.pi*dx*volum\n",
    "areal = 2*np.pi*dx*areal\n",
    "\n",
    "print(volum)\n",
    "print(areal)"
   ]
  },
  {
   "cell_type": "code",
   "execution_count": null,
   "id": "6d855d06-a9b9-4652-815a-4a77e5456078",
   "metadata": {},
   "outputs": [],
   "source": []
  }
 ],
 "metadata": {
  "kernelspec": {
   "display_name": "Python 3 (ipykernel)",
   "language": "python",
   "name": "python3"
  },
  "language_info": {
   "codemirror_mode": {
    "name": "ipython",
    "version": 3
   },
   "file_extension": ".py",
   "mimetype": "text/x-python",
   "name": "python",
   "nbconvert_exporter": "python",
   "pygments_lexer": "ipython3",
   "version": "3.12.4"
  }
 },
 "nbformat": 4,
 "nbformat_minor": 5
}
