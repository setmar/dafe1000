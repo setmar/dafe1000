{
 "cells": [
  {
   "cell_type": "code",
   "execution_count": 2,
   "id": "5206bb2a-313c-4af6-a664-ed3fb413f8fc",
   "metadata": {},
   "outputs": [],
   "source": [
    "import numpy as np"
   ]
  },
  {
   "cell_type": "code",
   "execution_count": 3,
   "id": "26b5ecc4-1143-4eb9-aa0b-b959f4d44557",
   "metadata": {},
   "outputs": [
    {
     "name": "stdout",
     "output_type": "stream",
     "text": [
      "x = 0.64171\n",
      "iterasjonar = 4\n"
     ]
    }
   ],
   "source": [
    "# Skript som implementerer Newtons metode\n",
    "\n",
    "# Bestemmer x_0\n",
    "x = 1\n",
    "\n",
    "# Presisjon\n",
    "pres = 1e-5\n",
    "\n",
    "# Initerer talet på iterasjonar\n",
    "iterasjonar = 0\n",
    "\n",
    "# Lagar ein variabel for \"gamal\" x-verdi (tilfeldig tal)\n",
    "x_gml = 100\n",
    "\n",
    "while abs(x-x_gml) > pres:\n",
    "    # Kopierer den gamle x\n",
    "    x_gml = x\n",
    "    # Iterasjonsskjema\n",
    "    x = x-(np.sqrt(x)-np.cos(x)) / \\\n",
    "        (1/(2*np.sqrt(x))+np.sin(x))\n",
    "    # Tel iterasjonar\n",
    "    iterasjonar = iterasjonar+1\n",
    "\n",
    "# Skriv svaret til skjerm\n",
    "print(f'x = {x:.5f}')\n",
    "\n",
    "# Skriv talet på iterasjonar til skjerm\n",
    "print(f'iterasjonar = {iterasjonar}')"
   ]
  },
  {
   "cell_type": "code",
   "execution_count": null,
   "id": "3442af15-0887-47d2-842b-945cdcf54411",
   "metadata": {},
   "outputs": [],
   "source": []
  }
 ],
 "metadata": {
  "kernelspec": {
   "display_name": "Python 3 (ipykernel)",
   "language": "python",
   "name": "python3"
  },
  "language_info": {
   "codemirror_mode": {
    "name": "ipython",
    "version": 3
   },
   "file_extension": ".py",
   "mimetype": "text/x-python",
   "name": "python",
   "nbconvert_exporter": "python",
   "pygments_lexer": "ipython3",
   "version": "3.12.4"
  }
 },
 "nbformat": 4,
 "nbformat_minor": 5
}
