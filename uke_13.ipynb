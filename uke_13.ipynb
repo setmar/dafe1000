{
 "cells": [
  {
   "cell_type": "code",
   "execution_count": 28,
   "id": "4afe9181-f01f-4205-b9f4-a62e5fedfcf8",
   "metadata": {},
   "outputs": [
    {
     "name": "stdout",
     "output_type": "stream",
     "text": [
      "[[ 3  8]\n",
      " [ 4 11]]\n",
      "[[5]\n",
      " [7]]\n",
      "[[ 3  8  5]\n",
      " [ 4 11  7]]\n",
      "[[1 0 -1]\n",
      " [0 1 1]]\n"
     ]
    }
   ],
   "source": [
    "import numpy as np\n",
    "import sympy\n",
    "\n",
    "A = np.array([[3, 8], [4, 11]])\n",
    "b = np.array([[5], [7]])\n",
    "\n",
    "print(A)\n",
    "print(b)\n",
    "\n",
    "#T = np.array([[3, 8, 5], [4, 11, 7]])\n",
    "T = np.hstack((A, b))\n",
    "print(T)\n",
    "\n",
    "R = sympy.Matrix(T).rref()[0]\n",
    "R = np.array(R)\n",
    "\n",
    "print(R)"
   ]
  },
  {
   "cell_type": "code",
   "execution_count": 31,
   "id": "c1ab3a04-54d6-44f4-ad01-7e66801c53a3",
   "metadata": {},
   "outputs": [
    {
     "name": "stdout",
     "output_type": "stream",
     "text": [
      "7\n"
     ]
    }
   ],
   "source": [
    "# Skriv ut elementet nederst til høyre\n",
    "print(T[1][2])"
   ]
  },
  {
   "cell_type": "code",
   "execution_count": 33,
   "id": "b1aa2f77-2ef6-4215-a576-f15fe9fc7f0f",
   "metadata": {},
   "outputs": [
    {
     "name": "stdout",
     "output_type": "stream",
     "text": [
      "[[ 3  8]\n",
      " [ 4 11]]\n",
      "[[ 3  4]\n",
      " [ 8 11]]\n",
      "[[11. -8.]\n",
      " [-4.  3.]]\n",
      "[[1. 0.]\n",
      " [0. 1.]]\n",
      "[[1. 0.]\n",
      " [0. 1.]]\n"
     ]
    }
   ],
   "source": [
    "print(A)\n",
    "\n",
    "print(A.T)           # den transponerte\n",
    "\n",
    "K = np.linalg.inv(A) # inversmatrise\n",
    "print(K)\n",
    "print(A@K)\n",
    "print(K@A)"
   ]
  },
  {
   "cell_type": "code",
   "execution_count": 34,
   "id": "63b8305e-1683-4a81-8529-d092e8902bdf",
   "metadata": {},
   "outputs": [
    {
     "name": "stdout",
     "output_type": "stream",
     "text": [
      "1.0\n"
     ]
    }
   ],
   "source": [
    "print(np.linalg.det(A)) #determinanten"
   ]
  },
  {
   "cell_type": "code",
   "execution_count": 35,
   "id": "0cc48eb0-51b1-4520-a189-767fda7f5913",
   "metadata": {},
   "outputs": [
    {
     "name": "stdout",
     "output_type": "stream",
     "text": [
      "[[-1.]\n",
      " [ 1.]]\n"
     ]
    }
   ],
   "source": [
    "x = K@b\n",
    "\n",
    "print(x)"
   ]
  },
  {
   "cell_type": "code",
   "execution_count": null,
   "id": "bd8fa99c-45fd-4559-89ec-8152ffddde82",
   "metadata": {},
   "outputs": [],
   "source": []
  }
 ],
 "metadata": {
  "kernelspec": {
   "display_name": "Python 3 (ipykernel)",
   "language": "python",
   "name": "python3"
  },
  "language_info": {
   "codemirror_mode": {
    "name": "ipython",
    "version": 3
   },
   "file_extension": ".py",
   "mimetype": "text/x-python",
   "name": "python",
   "nbconvert_exporter": "python",
   "pygments_lexer": "ipython3",
   "version": "3.12.4"
  }
 },
 "nbformat": 4,
 "nbformat_minor": 5
}
